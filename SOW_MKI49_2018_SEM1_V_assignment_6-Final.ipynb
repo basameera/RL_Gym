{
 "cells": [
  {
   "cell_type": "markdown",
   "metadata": {},
   "source": [
    "## Group number: 17\n",
    "\n",
    "* Sameera Sandaruwan, s1014012\n",
    "* Mohit Jethwani, s1019474\n"
   ]
  },
  {
   "cell_type": "markdown",
   "metadata": {
    "colab_type": "text",
    "collapsed": true,
    "id": "-JgWbAhaB5af"
   },
   "source": [
    "In this assignment you will learn how to apply the REINFORCE algorithm within the OpenAI Gym environment. Make sure OpenAI gym is installed on your machine. Now let's import some relevant packages."
   ]
  },
  {
   "cell_type": "code",
   "execution_count": 1,
   "metadata": {
    "colab": {},
    "colab_type": "code",
    "id": "M9ICC_WuB5ai"
   },
   "outputs": [],
   "source": [
    "import gym\n",
    "from gym import wrappers, logger\n",
    "import matplotlib.pyplot as plt\n",
    "import tqdm\n",
    "import numpy as np\n",
    "from chainer import Chain\n",
    "import chainer.links as L\n",
    "import chainer.functions as F\n",
    "from chainer.optimizers import Adam\n",
    "from chainer import Variable\n",
    "\n",
    "%matplotlib inline"
   ]
  },
  {
   "cell_type": "markdown",
   "metadata": {
    "colab_type": "text",
    "id": "xRXnDbwuB5ap"
   },
   "source": [
    "We will make use of the classic CartPole environment provided by OpenAI Gym. Figure out what the details of this environment are.\n",
    "\n",
    "https://github.com/openai/gym/wiki/CartPole-v0\n",
    "\n",
    "**Observation**\n",
    "\n",
    "Type: Box(4)\n",
    "Num \tObservation \tMin \tMax\n",
    "\n",
    "0 \tCart Position \t-2.4 \t2.4\n",
    "\n",
    "1 \tCart Velocity \t-Inf \tInf\n",
    "\n",
    "2 \tPole Angle \t~ -41.8° \t~ 41.8°\n",
    "\n",
    "3 \tPole Velocity At Tip \t-Inf \tInf\n",
    "\n",
    "[Cart Position, Cart Velocity, Pole Angle, Pole Velocity]\n",
    "\n",
    "**Actions**\n",
    "\n",
    "Type: Discrete(2)\n",
    "\n",
    "Num \tAction\n",
    "\n",
    "0 \tPush cart to the left\n",
    "\n",
    "1 \tPush cart to the right\n",
    "\n",
    "Note: The amount the velocity is reduced or increased is not fixed as it depends on the angle the pole is pointing. This is because the center of gravity of the pole increases the amount of energy needed to move the cart underneath it.\n",
    "\n",
    "**Reward**\n",
    "\n",
    "Reward is 1 for every step taken, including the termination step\n",
    "\n",
    "**Starting State**\n",
    "\n",
    "All observations are assigned a uniform random value between ±0.05\n",
    "Episode Termination\n",
    "\n",
    "1. Pole Angle is more than ±12°\n",
    "2. Cart Position is more than ±2.4 (center of the cart reaches the edge of the display)\n",
    "3. Episode length is greater than 200\n",
    "\n",
    "**Solved Requirements**\n",
    "\n",
    "Considered solved when the average reward is greater than or equal to 195.0 over 100 consecutive trials."
   ]
  },
  {
   "cell_type": "code",
   "execution_count": 2,
   "metadata": {
    "colab": {},
    "colab_type": "code",
    "id": "rwzPfMhMB5as"
   },
   "outputs": [],
   "source": [
    "env_id = 'CartPole-v0'\n",
    "\n",
    "# You can set the level to logger.DEBUG or logger.WARN if you want to change the amount of output. INFO\n",
    "logger.set_level(logger.DEBUG)"
   ]
  },
  {
   "cell_type": "code",
   "execution_count": 3,
   "metadata": {},
   "outputs": [
    {
     "name": "stdout",
     "output_type": "stream",
     "text": [
      "INFO: Making new env: CartPole-v0\n",
      "\n",
      ">> episode 0\n",
      "observation [-0.03199962  0.01691463 -0.01688842 -0.00123663] action 0 reward 1.0\n",
      "observation [-0.03166133 -0.17796109 -0.01691315  0.28607031] action 1 reward 1.0\n",
      "observation [-0.03522055  0.01739793 -0.01119175 -0.01189854] action 1 reward 1.0\n",
      "observation [-0.03487259  0.21267858 -0.01142972 -0.30809148] action 0 reward 1.0\n",
      "observation [-0.03061902  0.01772134 -0.01759155 -0.01903499] action 1 reward 1.0\n",
      "observation [-0.0302646   0.2130911  -0.01797225 -0.31721593] action 1 reward 1.0\n",
      "observation [-0.02600277  0.40846436 -0.02431656 -0.61551205] action 1 reward 1.0\n",
      "observation [-0.01783349  0.60391747 -0.03662681 -0.9157534 ] action 1 reward 1.0\n",
      "observation [-0.00575514  0.79951508 -0.05494187 -1.21971892] action 1 reward 1.0\n",
      "observation [ 0.01023516  0.99530049 -0.07933625 -1.52909868] action 1 reward 1.0\n",
      "observation [ 0.03014117  1.19128462 -0.10991823 -1.84545057] action 1 reward 1.0\n",
      "observation [ 0.05396687  1.3874331  -0.14682724 -2.1701486 ] action 0 reward 1.0\n",
      "observation [ 0.08171553  1.19401744 -0.19023021 -1.92615905] action 0 reward 1.0\n",
      "\n",
      "Episode finished after 13 timesteps\n",
      "\n",
      ">> episode 1\n",
      "observation [-0.01057194 -0.00801489 -0.00592421  0.00572657] action 1 reward 1.0\n",
      "observation [-0.01073224  0.18719152 -0.00580968 -0.28881961] action 0 reward 1.0\n",
      "observation [-0.00698841 -0.0078471  -0.01158607  0.00202535] action 0 reward 1.0\n",
      "observation [-0.00714535 -0.20280099 -0.01154557  0.29103033] action 0 reward 1.0\n",
      "observation [-0.01120137 -0.39775643 -0.00572496  0.58004967] action 0 reward 1.0\n",
      "observation [-0.0191565  -0.59279769  0.00587603  0.87092364] action 0 reward 1.0\n",
      "observation [-0.03101245 -0.78799907  0.02329451  1.1654482 ] action 1 reward 1.0\n",
      "observation [-0.04677243 -0.59318794  0.04660347  0.88015875] action 0 reward 1.0\n",
      "observation [-0.05863619 -0.788911    0.06420665  1.18712104] action 1 reward 1.0\n",
      "observation [-0.07441441 -0.59467763  0.08794907  0.91523511] action 1 reward 1.0\n",
      "observation [-0.08630797 -0.40084814  0.10625377  0.65143832] action 0 reward 1.0\n",
      "observation [-0.09432493 -0.59727691  0.11928254  0.97559967] action 0 reward 1.0\n",
      "observation [-0.10627047 -0.79377926  0.13879453  1.30324471] action 1 reward 1.0\n",
      "observation [-0.12214605 -0.60066358  0.16485942  1.05703154] action 1 reward 1.0\n",
      "observation [-0.13415932 -0.40806401  0.18600005  0.82029867] action 1 reward 1.0\n",
      "observation [-0.1423206  -0.21590792  0.20240603  0.59140529] action 1 reward 1.0\n",
      "\n",
      "Episode finished after 16 timesteps\n"
     ]
    }
   ],
   "source": [
    "### TEST\n",
    "env = gym.make('CartPole-v0')\n",
    "for i_episode in range(2):\n",
    "    print('\\n>> episode', i_episode)\n",
    "    observation = env.reset()\n",
    "    \n",
    "    # actions inside each episode\n",
    "    for t in range(20):\n",
    "#         env.render()\n",
    "        print('observation',observation, end=' ')\n",
    "        action = env.action_space.sample()\n",
    "        print('action', action, end=' ')\n",
    "        observation, reward, done, info = env.step(action)\n",
    "        print('reward', reward)\n",
    "        if done:\n",
    "            print(\"\\nEpisode finished after {} timesteps\".format(t+1))\n",
    "            break"
   ]
  },
  {
   "cell_type": "markdown",
   "metadata": {
    "colab_type": "text",
    "id": "789ayFxUB5a1"
   },
   "source": [
    "Let's define a baseline agent which just emits random actions."
   ]
  },
  {
   "cell_type": "code",
   "execution_count": 4,
   "metadata": {
    "colab": {},
    "colab_type": "code",
    "id": "ymm5rSs-B5a3"
   },
   "outputs": [],
   "source": [
    "class RandomAgent(object):\n",
    "    \"\"\"The world's simplest agent!\"\"\"\n",
    "\n",
    "    def __init__(self, action_space):\n",
    "        self.action_space = action_space\n",
    "\n",
    "    def act(self, observation, reward, done):\n",
    "        return self.action_space.sample()\n"
   ]
  },
  {
   "cell_type": "markdown",
   "metadata": {
    "colab_type": "text",
    "id": "E9MqsR1LB5bC"
   },
   "source": [
    "Let's run the agent on the environment."
   ]
  },
  {
   "cell_type": "code",
   "execution_count": 5,
   "metadata": {
    "colab": {
     "base_uri": "https://localhost:8080/",
     "height": 1354
    },
    "colab_type": "code",
    "id": "CS2L_duwB5bE",
    "outputId": "40ccd223-7fe4-400f-8f7d-e38e39612c69"
   },
   "outputs": [
    {
     "name": "stderr",
     "output_type": "stream",
     "text": [
      "  7%|▋         | 655/10000 [00:00<00:02, 3292.57it/s]"
     ]
    },
    {
     "name": "stdout",
     "output_type": "stream",
     "text": [
      "INFO: Making new env: CartPole-v0\n"
     ]
    },
    {
     "name": "stderr",
     "output_type": "stream",
     "text": [
      "100%|██████████| 10000/10000 [00:02<00:00, 3694.03it/s]"
     ]
    },
    {
     "name": "stdout",
     "output_type": "stream",
     "text": [
      "112.0\n"
     ]
    },
    {
     "name": "stderr",
     "output_type": "stream",
     "text": [
      "\n"
     ]
    }
   ],
   "source": [
    "env = gym.make(env_id)\n",
    "env.seed(0)\n",
    "agent = RandomAgent(env.action_space)\n",
    "\n",
    "episode_count = 10000\n",
    "done = False\n",
    "reward = 0\n",
    "    \n",
    "R0 = np.zeros(episode_count)\n",
    "\n",
    "random_history = {}\n",
    "\n",
    "for i in tqdm.trange(episode_count):\n",
    "\n",
    "    ob = env.reset()\n",
    "    temp_history = {'obs':[], 'act':[], 'reward':0}\n",
    "    temp_history['obs'].append(ob)\n",
    "    while True:\n",
    "\n",
    "        action = agent.act(ob, reward, done)\n",
    "        temp_history['act'].append(action)\n",
    "        ob, reward, done, _ = env.step(action)\n",
    "        temp_history['obs'].append(ob)\n",
    "        R0[i] += reward\n",
    "        \n",
    "        if done:\n",
    "            temp_history['reward'] = R0[i]\n",
    "            random_history[i] = temp_history\n",
    "            break\n",
    "\n",
    "# Close the env and write monitor result info to disk\n",
    "env.close()\n",
    "print(max(R0))\n"
   ]
  },
  {
   "cell_type": "code",
   "execution_count": 6,
   "metadata": {},
   "outputs": [],
   "source": [
    "# for eps in random_history:\n",
    "#     print(eps, random_history[eps])\n",
    "#     print('---')"
   ]
  },
  {
   "cell_type": "code",
   "execution_count": 7,
   "metadata": {},
   "outputs": [
    {
     "data": {
      "text/plain": [
       "[<matplotlib.lines.Line2D at 0x7f1567364f60>]"
      ]
     },
     "execution_count": 7,
     "metadata": {},
     "output_type": "execute_result"
    },
    {
     "data": {
      "image/png": "[encoded data removed]",
      "text/plain": [
       "<Figure size 432x288 with 1 Axes>"
      ]
     },
     "metadata": {
      "needs_background": "light"
     },
     "output_type": "display_data"
    }
   ],
   "source": [
    "plt.plot(R0)"
   ]
  },
  {
   "cell_type": "markdown",
   "metadata": {
    "colab_type": "text",
    "id": "9u6DXf-QB5bO"
   },
   "source": [
    "Let's create the REINFORCE agent. We assume that the policy is computed using an MLP with a softmax output."
   ]
  },
  {
   "cell_type": "code",
   "execution_count": 8,
   "metadata": {
    "colab": {},
    "colab_type": "code",
    "id": "OV5EtXhzB5bR"
   },
   "outputs": [],
   "source": [
    "'''\n",
    "Input - Observations (1x4)\n",
    "Output - Policy (1x2)\n",
    "'''\n",
    "class MLP(Chain):\n",
    "    \"\"\"Multilayer perceptron\"\"\"\n",
    "\n",
    "    def __init__(self, n_output=1, n_hidden=5):\n",
    "        super(MLP, self).__init__(l1=L.Linear(None, n_hidden), \n",
    "                                  l2=L.Linear(n_hidden, n_output))\n",
    "\n",
    "    def __call__(self, x):\n",
    "        return self.l2(F.relu(self.l1(x)))"
   ]
  },
  {
   "cell_type": "markdown",
   "metadata": {
    "colab_type": "text",
    "id": "g0GtdM-tB5bW"
   },
   "source": [
    "1: A skeleton for the REINFORCEAgent is given. Implement the compute_loss and compute_score functions. "
   ]
  },
  {
   "cell_type": "markdown",
   "metadata": {},
   "source": [
    "# To Figure out\n",
    "\n",
    "1. How the Agent and Model interact with each other. \n",
    "2. How state (s), action (a), policy (pi) work in this context with the NN\n",
    "3. What is 'compute_loss'\n",
    "4. What is 'compute_score'\n",
    "5. What will be the loss function here - How it would maximize reward (refer slides)\n",
    "\n",
    "Maximize expected return - using Gradient Ascent\n",
    "\n",
    "\n",
    "# Questions\n",
    "\n",
    "1. Do we use both Policy and Value gradient for 'compute_loss'?\n",
    "2. What is that E function in slides 15 (expected return)\n",
    "3. Is the (X) equn. in my book correctly correspond to V_t in 'compute_loss'\n",
    "4. what is V_t?\n",
    "5. How to maximize Reward?"
   ]
  },
  {
   "cell_type": "code",
   "execution_count": 9,
   "metadata": {
    "colab": {},
    "colab_type": "code",
    "id": "JC6Tnd0PB5bZ"
   },
   "outputs": [],
   "source": [
    "class REINFORCEAgent(object):\n",
    "    \"\"\"Agent trained using REINFORCE\"\"\"\n",
    "\n",
    "    def __init__(self, action_space, model, optimizer=Adam()):\n",
    "\n",
    "        self.action_space = action_space\n",
    "\n",
    "        self.model = model\n",
    "\n",
    "        self.optimizer = optimizer\n",
    "        self.optimizer.setup(self.model)\n",
    "\n",
    "        # monitor score and reward\n",
    "        self.rewards = []\n",
    "        self.scores = []\n",
    "\n",
    "\n",
    "    def act(self, observation, reward, done):\n",
    "\n",
    "        # linear outputs reflecting the log action probabilities and the value\n",
    "        policy = self.model(Variable(np.atleast_2d(np.asarray(observation, 'float32'))))\n",
    "#         print('---\\nobs', Variable(np.atleast_2d(np.asarray(observation, 'float32'))))\n",
    "#         print('policy', policy)\n",
    "        \n",
    "\n",
    "        # generate action according to policy\n",
    "        p = F.softmax(policy).data\n",
    "#         print('p before',p, end=' ')\n",
    "        # normalize p in case tiny floating precision problems occur\n",
    "        row_sums = p.sum(axis=1)\n",
    "        \n",
    "        p /= row_sums[:, np.newaxis]\n",
    "#         print('choose policy', p.shape[1], 'prob', p[0])\n",
    "                                             # a, size=None, replace=True, p=None\n",
    "        action = np.asarray([np.random.choice(p.shape[1], None, True, p[0])])\n",
    "#         print('action', action)\n",
    "#         print('policy', policy)\n",
    "        return action, policy\n",
    "\n",
    "\n",
    "    def compute_loss(self):\n",
    "        \"\"\"\n",
    "        Return loss for this episode based on computed scores and accumulated rewards\n",
    "        \n",
    "        # loss: compute_score(pi) * R(t)\n",
    "        \n",
    "        \"\"\"\n",
    "#         print(type(self.scores))\n",
    "        score = sum(self.scores)\n",
    "        rw = sum(self.rewards)\n",
    "#         print(type(score))\n",
    "#         print(type(rw))\n",
    "        \n",
    "        loss = score*rw\n",
    "#         print(type(LS))\n",
    "        \n",
    "#         loss = np.sum(np.array(self.scores))*np.sum(np.array(self.rewards))\n",
    "#         print(' LOSS ',loss, 'Reward', rw, end=' ')\n",
    "#         self.rewards = [0]\n",
    "#         self.scores = [0]\n",
    "        return loss #Variable(np.array([0]))\n",
    "\n",
    "    def compute_score(self, action, policy):\n",
    "        \"\"\"\n",
    "        Computes score\n",
    "        \n",
    "        # compute score : log pi_theta (s_t, a_t)\n",
    "\n",
    "        Args:\n",
    "            action (int):\n",
    "            policy [pi_theta]:\n",
    "\n",
    "        Returns:\n",
    "            score\n",
    "        \"\"\"\n",
    "        p = F.softmax(policy).data #WIthout softmax, policy would have negative values -> can't have log values\n",
    "        score = F.log(np.array([p[0][action[0]]]))\n",
    "#         print('action', action[0], 'policy', p[0], 'score', score)\n",
    "        return score"
   ]
  },
  {
   "cell_type": "markdown",
   "metadata": {},
   "source": [
    "# compute_score\n",
    "\n",
    "$$ \\nabla_{\\theta} log \\pi_{\\theta}(s_t, a_t)\\cdot v_t $$"
   ]
  },
  {
   "cell_type": "markdown",
   "metadata": {
    "colab_type": "text",
    "id": "m0LM2TB0B5bi"
   },
   "source": [
    "Now we run the REINFORCE agent on the CartPole environment. Note that we update the agent after each episode for simplicity."
   ]
  },
  {
   "cell_type": "code",
   "execution_count": 10,
   "metadata": {},
   "outputs": [
    {
     "name": "stdout",
     "output_type": "stream",
     "text": [
      "INFO: Making new env: CartPole-v0\n",
      "2\n"
     ]
    }
   ],
   "source": [
    "env = gym.make(env_id)\n",
    "env.seed(0)\n",
    "\n",
    "print(env.action_space.n)\n",
    "\n",
    "network = MLP(n_output=env.action_space.n, n_hidden=3)\n",
    "agent = REINFORCEAgent(env.action_space, network, optimizer=Adam())\n",
    "\n",
    "# episode_count = 10000\n",
    "done = False\n",
    "reward = 0\n",
    "\n",
    "R = np.zeros(episode_count)"
   ]
  },
  {
   "cell_type": "code",
   "execution_count": 11,
   "metadata": {
    "colab": {
     "base_uri": "https://localhost:8080/",
     "height": 86
    },
    "colab_type": "code",
    "id": "bQEtBE4GB5bj",
    "outputId": "d4a99d27-c2b3-4a48-e21d-07ed965da535",
    "scrolled": true
   },
   "outputs": [
    {
     "name": "stderr",
     "output_type": "stream",
     "text": [
      "100%|██████████| 10000/10000 [01:39<00:00, 100.37it/s]\n"
     ]
    }
   ],
   "source": [
    "loss_history = []\n",
    "for i in tqdm.trange(episode_count):\n",
    "\n",
    "    ob = env.reset()\n",
    "\n",
    "    loss = 0\n",
    "#     print('eps' , i, ' ', end=' ')\n",
    "    while True:\n",
    "\n",
    "        action, policy = agent.act(ob, reward, done)\n",
    "\n",
    "        ob, reward, done, _ = env.step(action[0])\n",
    "#         print('r type', type(reward))\n",
    "        # get reward associated with taking the previous action in the previous state\n",
    "        agent.rewards.append(reward)\n",
    "        R[i] += reward\n",
    "\n",
    "        # recompute score function: grad_theta log pi_theta (s_t, a_t) * v_t\n",
    "        agent.scores.append(agent.compute_score(action, policy))\n",
    "#         print('s type', type(agent.compute_score(action, policy)))\n",
    "        # we learn at the end of each episode\n",
    "        if done:\n",
    "            \n",
    "            loss += agent.compute_loss()\n",
    "            loss_history.append(loss.data)\n",
    "#             print(' Acc R:', R[i])\n",
    "            agent.model.cleargrads()\n",
    "            loss.backward()\n",
    "            loss.unchain_backward()\n",
    "            agent.optimizer.update()\n",
    "            \n",
    "            agent.rewards = [0]\n",
    "            agent.scores = [0]\n",
    "\n",
    "            break"
   ]
  },
  {
   "cell_type": "code",
   "execution_count": 12,
   "metadata": {},
   "outputs": [
    {
     "data": {
      "text/plain": [
       "[<matplotlib.lines.Line2D at 0x7f156729b978>]"
      ]
     },
     "execution_count": 12,
     "metadata": {},
     "output_type": "execute_result"
    },
    {
     "data": {
      "image/png": "[encoded data removed]",
      "text/plain": [
       "<Figure size 432x288 with 1 Axes>"
      ]
     },
     "metadata": {
      "needs_background": "light"
     },
     "output_type": "display_data"
    }
   ],
   "source": [
    "plt.plot(loss_history)"
   ]
  },
  {
   "cell_type": "code",
   "execution_count": 13,
   "metadata": {
    "colab": {},
    "colab_type": "code",
    "id": "P4X55LLpB5br"
   },
   "outputs": [],
   "source": [
    "# You may want to run a video of the trained agent performing in the environment using the env.render() function.\n",
    "\n",
    "# for i in range(3):\n",
    "\n",
    "#     ob = env.reset()\n",
    "\n",
    "#     while True:\n",
    "\n",
    "#         action, policy = agent.act(ob, reward, done)\n",
    "\n",
    "#         ob, reward, done, _ = env.step(action[0])\n",
    "\n",
    "#         if done:\n",
    "#             break\n",
    "      \n",
    "#         env.render()"
   ]
  },
  {
   "cell_type": "markdown",
   "metadata": {
    "colab_type": "text",
    "id": "YOa8XPX1B5bu"
   },
   "source": [
    "2: Plot the cumulative reward for both RandomAgent and REINFORCEAgent."
   ]
  },
  {
   "cell_type": "code",
   "execution_count": 14,
   "metadata": {},
   "outputs": [
    {
     "data": {
      "text/plain": [
       "(0, 200)"
      ]
     },
     "execution_count": 14,
     "metadata": {},
     "output_type": "execute_result"
    },
    {
     "data": {
      "image/png": "[encoded data removed]",
      "text/plain": [
       "<Figure size 1080x360 with 2 Axes>"
      ]
     },
     "metadata": {
      "needs_background": "light"
     },
     "output_type": "display_data"
    }
   ],
   "source": [
    "plt.figure(figsize=(15,5))\n",
    "plt.subplot(121)\n",
    "plt.plot(R0)\n",
    "plt.title('RandomAgent')\n",
    "plt.ylim((0, 200))\n",
    "\n",
    "plt.subplot(122)\n",
    "plt.plot(R)\n",
    "plt.title('REINFORCEAgent')\n",
    "plt.ylim((0, 200))"
   ]
  }
 ],
 "metadata": {
  "colab": {
   "name": "Copy of SOW-MKI49-2018-SEM1-V-assignment_6.ipynb",
   "provenance": [],
   "version": "0.3.2"
  },
  "kernelspec": {
   "display_name": "Python 3",
   "language": "python",
   "name": "python3"
  },
  "language_info": {
   "codemirror_mode": {
    "name": "ipython",
    "version": 3
   },
   "file_extension": ".py",
   "mimetype": "text/x-python",
   "name": "python",
   "nbconvert_exporter": "python",
   "pygments_lexer": "ipython3",
   "version": "3.6.6"
  }
 },
 "nbformat": 4,
 "nbformat_minor": 1
}
